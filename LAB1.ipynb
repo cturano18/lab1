{
  "nbformat": 4,
  "nbformat_minor": 0,
  "metadata": {
    "colab": {
      "name": "LAB1.ipynb",
      "provenance": [],
      "authorship_tag": "ABX9TyMiplFUdX2Ajle67gbYhpPl",
      "include_colab_link": true
    },
    "kernelspec": {
      "name": "python3",
      "display_name": "Python 3"
    }
  },
  "cells": [
    {
      "cell_type": "markdown",
      "metadata": {
        "id": "view-in-github",
        "colab_type": "text"
      },
      "source": [
        "<a href=\"https://colab.research.google.com/github/cturano18/lab1/blob/master/LAB1.ipynb\" target=\"_parent\"><img src=\"https://colab.research.google.com/assets/colab-badge.svg\" alt=\"Open In Colab\"/></a>"
      ]
    },
    {
      "cell_type": "markdown",
      "metadata": {
        "id": "fnhwZiqcgzRJ",
        "colab_type": "text"
      },
      "source": [
        "#Introduction "
      ]
    },
    {
      "cell_type": "markdown",
      "metadata": {
        "id": "Jv-rtAh6j1fA",
        "colab_type": "text"
      },
      "source": [
        "In this lab we will be graphing the precipitation, snow, maximum tempature, and minimum tempature over the course of 3 years. We will then be uploading the picture of our graphs to github which will then transfer over to here on google colab. After succefully uploading our images we will then be transferring the link to the site, jupyter. My hypothesis is that the graph will show an incline of maximum temperature as the years go on due to global warming. "
      ]
    },
    {
      "cell_type": "markdown",
      "metadata": {
        "id": "AvJiCKWQXWnX",
        "colab_type": "text"
      },
      "source": [
        "![sketch of graph](https://raw.githubusercontent.com/cturano18/lab1/master/images/graph.jpg)"
      ]
    },
    {
      "cell_type": "markdown",
      "metadata": {
        "id": "Iu4WR6aPXvgu",
        "colab_type": "text"
      },
      "source": [
        "#Conclusion"
      ]
    },
    {
      "cell_type": "markdown",
      "metadata": {
        "id": "Pih7IUL5XzY9",
        "colab_type": "text"
      },
      "source": [
        "As you can see from the sketch of the graph the precipatation and snow from 2017 to 2019 is roughly the same, staying close to close to none. As for temperature max and min, the temperatures tend to increase in the summer months and decrease when in winter months. In this lab I learned more on how to upload an image into github and google colab as well as transferring it over to jupyter. In conclusion my hypothesis was wrong but there was a slight increase but not dramactic. It seemed as though the temperatures and precipitation roughly stayed the same over the years. "
      ]
    }
  ]
}